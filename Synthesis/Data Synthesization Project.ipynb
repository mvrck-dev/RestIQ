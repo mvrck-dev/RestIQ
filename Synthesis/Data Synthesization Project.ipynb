{
  "nbformat": 4,
  "nbformat_minor": 0,
  "metadata": {
    "colab": {
      "provenance": []
    },
    "kernelspec": {
      "name": "python3",
      "display_name": "Python 3"
    },
    "language_info": {
      "name": "python"
    }
  },
  "cells": [
    {
      "cell_type": "code",
      "source": [
        "pip install names"
      ],
      "metadata": {
        "colab": {
          "base_uri": "https://localhost:8080/"
        },
        "id": "vatUbk9x1e7l",
        "outputId": "3340c1e6-582a-4484-e108-77f045af8f1f"
      },
      "execution_count": 16,
      "outputs": [
        {
          "output_type": "stream",
          "name": "stdout",
          "text": [
            "Requirement already satisfied: names in /usr/local/lib/python3.10/dist-packages (0.3.0)\n"
          ]
        }
      ]
    },
    {
      "cell_type": "code",
      "execution_count": 17,
      "metadata": {
        "id": "TzTlLvBH0iKR"
      },
      "outputs": [],
      "source": [
        "import pandas as pd\n",
        "import numpy as np\n",
        "import names"
      ]
    },
    {
      "cell_type": "code",
      "source": [
        "num_people = 10\n",
        "num_days = 14\n",
        "sample_ids = np.arange(1, num_people + 1)\n",
        "random_names = [names.get_full_name() for _ in range(num_people)]"
      ],
      "metadata": {
        "id": "3PMFmMWy0r5w"
      },
      "execution_count": 18,
      "outputs": []
    },
    {
      "cell_type": "code",
      "source": [
        "#personal information\n",
        "personal_info = {\n",
        "    'Name': random_names,\n",
        "    'Age': np.random.randint(18, 60, num_people),\n",
        "    'Profession': np.random.choice(['Engineer', 'Doctor', 'Artist', 'Teacher', 'Student'], num_people),\n",
        "    'Gender': np.random.choice(['Male', 'Female', 'Other'], num_people),\n",
        "    'Sample ID': sample_ids,\n",
        "    'Insomniac': np.random.choice(['Yes', 'No'], num_people),\n",
        "    'Sleeping Pills': np.random.choice(['Rarely', 'Regularly', 'Almost Regular', 'Never'], num_people),\n",
        "    'Anxiety or Temporary Stress?': np.random.choice(['Yes', 'No'], num_people),\n",
        "    'Counseling': ['No'] * num_people\n",
        "}\n",
        "\n",
        "for i in range(num_people):\n",
        "    if personal_info['Insomniac'][i] == 'Yes' or personal_info['Anxiety or Temporary Stress?'][i] == 'Yes':\n",
        "        personal_info['Counseling'][i] = 'Yes'"
      ],
      "metadata": {
        "id": "DXg9HbYo0wQI"
      },
      "execution_count": 19,
      "outputs": []
    },
    {
      "cell_type": "code",
      "source": [
        "#sleep details\n",
        "# Generate random sleep start and end times\n",
        "sleep_start_time_demo = np.random.randint(22, 27, num_people * num_days)\n",
        "sleep_end_time_demo = np.random.randint(23, 28, num_people * num_days)\n",
        "\n",
        "sleep_start_time = sleep_start_time_demo % 24\n",
        "sleep_end_time = (sleep_start_time_demo + 1) % 24\n",
        "\n",
        "# Generate random wake-up times\n",
        "wake_up_time_demo = np.random.randint(26, 34, num_people * num_days)\n",
        "wake_up_time = wake_up_time_demo % 24\n",
        "\n",
        "# Calculate hours of sleep\n",
        "duration_of_sleep = (wake_up_time_demo - sleep_start_time_demo) % 24 - 0.5\n",
        "\n",
        "# Generate mid-day naps and durations\n",
        "mid_day_naps = np.random.choice(['Yes', 'No'], num_people * num_days)\n",
        "mid_day_nap_durations = np.where(mid_day_naps == 'Yes', np.random.randint(1, 4, num_people * num_days), 0)\n",
        "\n",
        "# Create sleep details dictionary\n",
        "sleep_details = {\n",
        "    'Sample ID': np.repeat(sample_ids, 14),\n",
        "    'Count of Day': np.tile(np.arange(1, 14 + 1), num_people),\n",
        "    'Went to Sleep (Start Time)': sleep_start_time,\n",
        "    'Went to Sleep (End Time)': sleep_end_time,\n",
        "    'Woke Up At (Time)': wake_up_time,\n",
        "    'Hours of Sleep': duration_of_sleep,\n",
        "    'Number of Times Woken Up': np.random.randint(0, 5, num_people * num_days),\n",
        "    'Heart Rate While Sleeping': np.random.randint(60, 100, num_people * num_days),\n",
        "    'Mid-Day Naps': mid_day_naps,\n",
        "    'Mid-Day Nap Duration': mid_day_nap_durations,\n",
        "    'Dreams': np.random.choice(['Nightmares', 'Happy', 'Normal', 'No Dream'], num_people * num_days),\n",
        "    'Sleep Quality (1-10)': np.random.randint(1, 11, num_people * num_days),\n",
        "}\n"
      ],
      "metadata": {
        "id": "Ib-9JQXI1xsp"
      },
      "execution_count": 20,
      "outputs": []
    },
    {
      "cell_type": "code",
      "source": [
        "# Food Intake Details\n",
        "food_intake = {\n",
        "    'Sample ID': np.repeat(sample_ids, 14),\n",
        "    'Count of Day': np.tile(np.arange(1, 14 + 1), num_people),\n",
        "    'Amount of Food Intake (cal)': np.random.randint(1500, 3000, num_people * num_days),\n",
        "    'Felt Hungry at Intervals': np.random.randint(1 , 5, num_people * num_days),\n",
        "    'Number of Meals': np.random.randint(2, 6, num_people * num_days)\n",
        "}"
      ],
      "metadata": {
        "id": "F001_p0311ai"
      },
      "execution_count": 21,
      "outputs": []
    },
    {
      "cell_type": "code",
      "source": [
        "# Physical Activity\n",
        "physical_activity = {\n",
        "    'Sample ID': np.repeat(sample_ids, 14),\n",
        "    'Count of Day': np.tile(np.arange(1, 14 + 1), num_people),\n",
        "    'Number of Steps Walked': np.random.randint(1000, 20000, num_people * num_days),\n",
        "    'Worked Out (Hours)': np.random.uniform(0, 3, num_people * num_days),\n",
        "    'Type of Workout': np.random.choice(['Cardio', 'Strength', 'Yoga', 'None'], num_people * num_days),\n",
        "    'Calories Lost': np.random.randint(100, 1000, num_people * num_days),\n",
        "    'Heart Rate (Normal)': np.random.randint(60, 100, num_people * num_days),\n",
        "    'Heart Rate (During Workout)': np.random.randint(80, 160, num_people * num_days),\n",
        "    'Time Outs Between Physical Activity': np.random.randint(0, 60, num_people * num_days),\n",
        "    'Sports (Hours)': np.random.uniform(0, 3, num_people * num_days),\n",
        "    'Sport': np.random.choice(['Football', 'Basketball', 'Tennis','Badminton', 'Volleyball', 'None'], num_people * num_days)\n",
        "}"
      ],
      "metadata": {
        "id": "CcsaumK914sP"
      },
      "execution_count": 22,
      "outputs": []
    },
    {
      "cell_type": "code",
      "source": [
        "# Profession Related Activity\n",
        "profession_activity = {\n",
        "    'Sample ID': np.repeat(sample_ids, 14),\n",
        "    'Count of Day': np.tile(np.arange(1, 14 + 1), num_people),\n",
        "    'Mental Work (Hours)': np.random.uniform(0, 8, num_people * num_days),\n",
        "    'Number of Times Yawned': np.random.randint(0, 20, num_people * num_days),\n",
        "    'Speed of Working': np.random.choice(['Normal', 'Slower', 'Faster'], num_people * num_days),\n",
        "    'Cognitive Thinking Process': np.random.choice(['Normal', 'Slower', 'Higher'], num_people * num_days),\n",
        "    'Number of Breaks' : np.random.randint(0, 3, num_people * num_days),\n",
        "    'Could Do Tasks': np.random.choice(['Yes', 'No'], num_people * num_days),\n",
        "    'Tired After (Hours)': np.random.uniform(0, 8, num_people * num_days)\n",
        "}"
      ],
      "metadata": {
        "id": "gmddBwGR1_Zj"
      },
      "execution_count": 23,
      "outputs": []
    },
    {
      "cell_type": "code",
      "source": [
        "# End of Day Questions\n",
        "end_of_day = {\n",
        "    'Sample ID': np.repeat(sample_ids, 14),\n",
        "    'Count of Day': np.tile(np.arange(1, 14 + 1), num_people),\n",
        "    'Stress Level (1-10)': np.random.randint(1, 11, num_people * num_days),\n",
        "    'Mood (1-10)': np.random.randint(1, 11, num_people * num_days),\n",
        "    'Tired All Day': np.random.choice(['Yes', 'No'], num_people * num_days),\n",
        "    'Current Mood (1-10)': np.random.randint(1, 11, num_people * num_days),\n",
        "    'Sleepy': np.random.choice(['Yes', 'No'], num_people * num_days),\n",
        "    'Tired Now': np.random.choice(['Yes', 'No'], num_people * num_days),\n",
        "    'Task for the day fullfilled': np.random.choice(['Yes', 'No'], num_people * num_days)\n",
        "}"
      ],
      "metadata": {
        "id": "KGD3th3d2B_k"
      },
      "execution_count": 24,
      "outputs": []
    },
    {
      "cell_type": "code",
      "source": [
        "df_personal_info = pd.DataFrame(personal_info)\n",
        "df_sleep_details = pd.DataFrame(sleep_details)\n",
        "df_food_intake = pd.DataFrame(food_intake)\n",
        "df_physical_activity = pd.DataFrame(physical_activity)\n",
        "df_profession_activity = pd.DataFrame(profession_activity)\n",
        "df_end_of_day = pd.DataFrame(end_of_day)"
      ],
      "metadata": {
        "id": "Av7gaGEG2EFM"
      },
      "execution_count": 25,
      "outputs": []
    },
    {
      "cell_type": "code",
      "source": [
        "df_personal_info.to_csv('personal_info.csv', index=False)\n",
        "df_sleep_details.to_csv('sleep_details.csv', index=False)\n",
        "df_food_intake.to_csv('food_intake.csv', index=False)\n",
        "df_physical_activity.to_csv('physical_activity.csv', index=False)\n",
        "df_profession_activity.to_csv('profession_activity.csv', index=False)\n",
        "df_end_of_day.to_csv('end_of_day.csv', index=False)"
      ],
      "metadata": {
        "id": "x_2IyRk22Jsb"
      },
      "execution_count": 26,
      "outputs": []
    }
  ]
}